{
  "nbformat": 4,
  "nbformat_minor": 0,
  "metadata": {
    "colab": {
      "provenance": []
    },
    "kernelspec": {
      "name": "python3",
      "display_name": "Python 3"
    },
    "language_info": {
      "name": "python"
    }
  },
  "cells": [
    {
      "cell_type": "markdown",
      "source": [
        "# Selenium\n"
      ],
      "metadata": {
        "id": "jlJE7s9caWi3"
      }
    },
    {
      "cell_type": "markdown",
      "source": [
        "## 安裝"
      ],
      "metadata": {
        "id": "WEUCHkvOahcV"
      }
    },
    {
      "cell_type": "code",
      "execution_count": 52,
      "metadata": {
        "colab": {
          "base_uri": "https://localhost:8080/"
        },
        "id": "mNaesy7pvX_R",
        "outputId": "8c9dcd36-b395-4271-868c-7c5a6d5c8300"
      },
      "outputs": [
        {
          "output_type": "stream",
          "name": "stdout",
          "text": [
            "\r0% [Working]\r            \rHit:1 http://security.ubuntu.com/ubuntu jammy-security InRelease\n",
            "\r0% [Waiting for headers] [Connected to cloud.r-project.org (65.9.86.109)] [Conn\r                                                                               \rHit:2 http://archive.ubuntu.com/ubuntu jammy InRelease\n",
            "\r                                                                               \rHit:3 http://archive.ubuntu.com/ubuntu jammy-updates InRelease\n",
            "\r0% [Waiting for headers] [Connected to cloud.r-project.org (65.9.86.109)] [Conn\r                                                                               \rHit:4 http://archive.ubuntu.com/ubuntu jammy-backports InRelease\n",
            "\r0% [Connected to cloud.r-project.org (65.9.86.109)] [Connecting to r2u.stat.ill\r                                                                               \rHit:5 https://cloud.r-project.org/bin/linux/ubuntu jammy-cran40/ InRelease\n",
            "\r0% [Connecting to r2u.stat.illinois.edu (192.17.190.167)] [Waiting for headers]\r                                                                               \rHit:6 https://developer.download.nvidia.com/compute/cuda/repos/ubuntu2204/x86_64  InRelease\n",
            "\r0% [Connecting to r2u.stat.illinois.edu (192.17.190.167)] [Waiting for headers]\r                                                                               \rHit:7 https://ppa.launchpadcontent.net/deadsnakes/ppa/ubuntu jammy InRelease\n",
            "\r                                                                               \r0% [Connected to r2u.stat.illinois.edu (192.17.190.167)] [Waiting for headers]\r                                                                              \rHit:8 https://ppa.launchpadcontent.net/graphics-drivers/ppa/ubuntu jammy InRelease\n",
            "Hit:9 https://ppa.launchpadcontent.net/ubuntugis/ppa/ubuntu jammy InRelease\n",
            "Hit:10 https://r2u.stat.illinois.edu/ubuntu jammy InRelease\n",
            "Reading package lists... Done\n",
            "W: Skipping acquire of configured file 'main/source/Sources' as repository 'https://r2u.stat.illinois.edu/ubuntu jammy InRelease' does not seem to provide it (sources.list entry misspelt?)\n",
            "Reading package lists... Done\n",
            "Building dependency tree... Done\n",
            "Reading state information... Done\n",
            "chromium-chromedriver is already the newest version (1:85.0.4183.83-0ubuntu2.22.04.1).\n",
            "0 upgraded, 0 newly installed, 0 to remove and 30 not upgraded.\n",
            "cp: '/usr/lib/chromium-browser/chromedriver' and '/usr/bin/chromedriver' are the same file\n",
            "Requirement already satisfied: selenium in /usr/local/lib/python3.11/dist-packages (4.31.0)\n",
            "Requirement already satisfied: urllib3<3,>=1.26 in /usr/local/lib/python3.11/dist-packages (from urllib3[socks]<3,>=1.26->selenium) (2.3.0)\n",
            "Requirement already satisfied: trio~=0.17 in /usr/local/lib/python3.11/dist-packages (from selenium) (0.29.0)\n",
            "Requirement already satisfied: trio-websocket~=0.9 in /usr/local/lib/python3.11/dist-packages (from selenium) (0.12.2)\n",
            "Requirement already satisfied: certifi>=2021.10.8 in /usr/local/lib/python3.11/dist-packages (from selenium) (2025.1.31)\n",
            "Requirement already satisfied: typing_extensions~=4.9 in /usr/local/lib/python3.11/dist-packages (from selenium) (4.13.1)\n",
            "Requirement already satisfied: websocket-client~=1.8 in /usr/local/lib/python3.11/dist-packages (from selenium) (1.8.0)\n",
            "Requirement already satisfied: attrs>=23.2.0 in /usr/local/lib/python3.11/dist-packages (from trio~=0.17->selenium) (25.3.0)\n",
            "Requirement already satisfied: sortedcontainers in /usr/local/lib/python3.11/dist-packages (from trio~=0.17->selenium) (2.4.0)\n",
            "Requirement already satisfied: idna in /usr/local/lib/python3.11/dist-packages (from trio~=0.17->selenium) (3.10)\n",
            "Requirement already satisfied: outcome in /usr/local/lib/python3.11/dist-packages (from trio~=0.17->selenium) (1.3.0.post0)\n",
            "Requirement already satisfied: sniffio>=1.3.0 in /usr/local/lib/python3.11/dist-packages (from trio~=0.17->selenium) (1.3.1)\n",
            "Requirement already satisfied: wsproto>=0.14 in /usr/local/lib/python3.11/dist-packages (from trio-websocket~=0.9->selenium) (1.2.0)\n",
            "Requirement already satisfied: pysocks!=1.5.7,<2.0,>=1.5.6 in /usr/local/lib/python3.11/dist-packages (from urllib3[socks]<3,>=1.26->selenium) (1.7.1)\n",
            "Requirement already satisfied: h11<1,>=0.9.0 in /usr/local/lib/python3.11/dist-packages (from wsproto>=0.14->trio-websocket~=0.9->selenium) (0.14.0)\n"
          ]
        }
      ],
      "source": [
        "!apt-get update\n",
        "!apt install chromium-chromedriver\n",
        "!cp /usr/lib/chromium-browser/chromedriver /usr/bin\n",
        "!pip install selenium\n"
      ]
    },
    {
      "cell_type": "code",
      "source": [
        "from selenium import webdriver\n",
        "from selenium.webdriver.common.keys import Keys\n",
        "import time\n",
        "from selenium.webdriver.common.by import By"
      ],
      "metadata": {
        "id": "AXEiH5j5v0os"
      },
      "execution_count": 53,
      "outputs": []
    },
    {
      "cell_type": "markdown",
      "source": [
        "### 設定"
      ],
      "metadata": {
        "id": "Y8EToWdValau"
      }
    },
    {
      "cell_type": "code",
      "source": [
        "chrome_options = webdriver.ChromeOptions()\n",
        "chrome_options.add_argument('--headless')\n",
        "chrome_options.add_argument('--no-sandbox')\n",
        "chrome_options.add_argument('--disable-dev-shm-usage')\n",
        "chrome_options.add_argument(\"user-data-dir=/tmp/chrome_user_data\" + str(time.time()))\n",
        "chrome_options.headless = True\n",
        "driver = webdriver.Chrome(options=chrome_options)\n",
        "driver.maximize_window()"
      ],
      "metadata": {
        "id": "JHg7KjrIRKCk"
      },
      "execution_count": 54,
      "outputs": []
    },
    {
      "cell_type": "markdown",
      "source": [
        "### 輸入"
      ],
      "metadata": {
        "id": "4WJo5tPWam7s"
      }
    },
    {
      "cell_type": "code",
      "source": [
        "driver.get(\"https://www.selenium.dev/selenium/web/web-form.html\")\n",
        "time.sleep(2)\n",
        "\n",
        "txt_input = driver.find_element(By.ID,'my-text-id')\n",
        "print(f\"Before send_key：{txt_input.get_attribute('value')}\")\n",
        "txt_input.send_keys(\"chihlee\")\n",
        "print(f\"After send_key：{txt_input.get_attribute('value')}\")\n",
        "time.sleep(5)\n",
        "\n",
        "txt_input = driver.find_element(By.NAME,'my-text')\n",
        "print(f\"Before send_key：{txt_input.get_attribute('value')}\")\n",
        "txt_input.send_keys(\"chihlee\")\n",
        "print(f\"After send_key：{txt_input.get_attribute('value')}\")\n",
        "time.sleep(5)\n",
        "\n",
        "txt_input = driver.find_element(By.TAG_NAME,'textarea')\n",
        "print(f\"Before send_key：{txt_input.get_attribute('value')}\")\n",
        "txt_input.clear()\n",
        "txt_input.send_keys(\"chihlee\")\n",
        "print(f\"After send_key：{txt_input.get_attribute('value')}\")"
      ],
      "metadata": {
        "colab": {
          "base_uri": "https://localhost:8080/"
        },
        "id": "FmXNIZJ4R9bf",
        "outputId": "41ebcf41-7ebc-4b43-a1a0-0b9d5d087246"
      },
      "execution_count": 55,
      "outputs": [
        {
          "output_type": "stream",
          "name": "stdout",
          "text": [
            "Before send_key：\n",
            "After send_key：chihlee\n",
            "Before send_key：chihlee\n",
            "After send_key：chihleechihlee\n",
            "Before send_key：\n",
            "After send_key：chihlee\n"
          ]
        }
      ]
    },
    {
      "cell_type": "markdown",
      "source": [
        "### 尋找畢業門檻"
      ],
      "metadata": {
        "id": "5w7xfergao46"
      }
    },
    {
      "cell_type": "code",
      "source": [
        "driver.get(\"https://www.chihlee.edu.tw/\")\n",
        "time.sleep(2)\n",
        "\n",
        "link_1 = driver.find_element(By.LINK_TEXT,'教學單位')\n",
        "link_1.click()\n",
        "\n",
        "link_2 = driver.find_element(By.PARTIAL_LINK_TEXT,'訊管理')\n",
        "link_2.click()\n",
        "\n",
        "driver.switch_to.window(driver.window_handles[1])\n",
        "print(driver.current_url)\n",
        "time.sleep(2)\n",
        "\n",
        "link_3 = driver.find_element(By.XPATH,'//*[@id=\"Cg_4507\"]/a')\n",
        "link_3.click()\n",
        "\n",
        "link_4 = driver.find_element(By.LINK_TEXT,'畢業門檻')\n",
        "link_4.click()\n",
        "\n",
        "print(driver.current_url)"
      ],
      "metadata": {
        "id": "r39Rfnp_wg2D",
        "colab": {
          "base_uri": "https://localhost:8080/"
        },
        "outputId": "01d0bdff-519a-43ac-f05c-22d87b8d2835"
      },
      "execution_count": 56,
      "outputs": [
        {
          "output_type": "stream",
          "name": "stdout",
          "text": [
            "https://im100.chihlee.edu.tw/\n",
            "https://im100.chihlee.edu.tw/p/412-1037-2653.php\n"
          ]
        }
      ]
    },
    {
      "cell_type": "markdown",
      "source": [
        "## 其他功能"
      ],
      "metadata": {
        "id": "OwKDGrTda3St"
      }
    },
    {
      "cell_type": "code",
      "source": [
        "from selenium import webdriver\n",
        "from selenium.webdriver.common.keys import Keys\n",
        "import time\n",
        "from selenium.webdriver.common.by import By"
      ],
      "metadata": {
        "id": "l-yXF1hla73s"
      },
      "execution_count": 57,
      "outputs": []
    },
    {
      "cell_type": "code",
      "source": [
        "chrome_options = webdriver.ChromeOptions()\n",
        "chrome_options.add_argument('--headless')\n",
        "chrome_options.add_argument('--no-sandbox')\n",
        "chrome_options.add_argument('--disable-dev-shm-usage')\n",
        "chrome_options.add_argument(\"user-data-dir=/tmp/chrome_user_data\" + str(time.time()))\n",
        "chrome_options.headless = True\n",
        "driver = webdriver.Chrome(options=chrome_options)\n",
        "driver.maximize_window()"
      ],
      "metadata": {
        "id": "nveZegyza_5t"
      },
      "execution_count": 58,
      "outputs": []
    },
    {
      "cell_type": "code",
      "source": [
        "driver.get(\"https://www.selenium.dev/selenium/web/alerts.html\")\n",
        "time.sleep(2)\n",
        "\n",
        "alert = driver.find_element(By.ID,'alert')\n",
        "alert.click()\n",
        "\n",
        "alert = driver.switch_to.alert\n",
        "print(\"Alert text：\",alert.text)\n",
        "alert.accept()"
      ],
      "metadata": {
        "colab": {
          "base_uri": "https://localhost:8080/"
        },
        "id": "_EihH0JmbNk1",
        "outputId": "abcfe855-502c-49f9-e97a-cdfb69090e84"
      },
      "execution_count": 60,
      "outputs": [
        {
          "output_type": "stream",
          "name": "stdout",
          "text": [
            "Alert text： cheese\n"
          ]
        }
      ]
    },
    {
      "cell_type": "code",
      "source": [
        "prompt = driver.find_element(By.ID,'prompt')\n",
        "prompt.click()\n",
        "prompt = driver.switch_to.alert\n",
        "print(\"Prompt Text：\", prompt.text)\n",
        "prompt.send_keys(\"chihlee\")\n",
        "prompt.accept()\n"
      ],
      "metadata": {
        "colab": {
          "base_uri": "https://localhost:8080/"
        },
        "id": "O4ebE6fzcmD0",
        "outputId": "fc7b8ed6-9479-4a52-f6e3-0e495d54ded0"
      },
      "execution_count": 64,
      "outputs": [
        {
          "output_type": "stream",
          "name": "stdout",
          "text": [
            "Prompt Text： Enter something\n"
          ]
        }
      ]
    }
  ]
}